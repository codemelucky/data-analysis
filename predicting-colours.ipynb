{
 "cells": [
  {
   "cell_type": "code",
   "execution_count": 1,
   "id": "cab205f5",
   "metadata": {},
   "outputs": [],
   "source": [
    "import os\n",
    "from datetime import datetime\n",
    "import numpy as np\n",
    "import pandas as pd\n",
    "from ta.volume import VolumeWeightedAveragePrice\n",
    "from ta.momentum import StochRSIIndicator\n",
    "from ta.trend import EMAIndicator\n",
    "import yfinance as yf\n",
    "import matplotlib.pyplot as plt"
   ]
  },
  {
   "cell_type": "markdown",
   "id": "c9b2ffb3",
   "metadata": {},
   "source": [
    "### Candle Colour Totals"
   ]
  },
  {
   "cell_type": "code",
   "execution_count": 2,
   "id": "a13672a3",
   "metadata": {},
   "outputs": [
    {
     "name": "stdout",
     "output_type": "stream",
     "text": [
      "=======================================\n",
      "Dataset: spy-1m.csv Size: 10327\n",
      "\n",
      "Green count: 48.89%, Red count: 48.47%, Yellow count: 2.64%\n",
      "=======================================\n",
      "Dataset: spy-5m.csv Size: 9837\n",
      "\n",
      "Green count: 50.45%, Red count: 48.56%, Yellow count: 0.99%\n",
      "=======================================\n",
      "Dataset: spy-1h.csv Size: 10439\n",
      "\n",
      "Green count: 51.72%, Red count: 47.49%, Yellow count: 0.79%\n",
      "=======================================\n",
      "Dataset: spy-1d.csv Size: 7346\n",
      "\n",
      "Green count: 52.41%, Red count: 46.72%, Yellow count: 0.87%\n"
     ]
    }
   ],
   "source": [
    "def total_colours(df):\n",
    "\n",
    "    # Label each row / candle with colour\n",
    "    df.loc[df[\"open\"] > df[\"close\"], \"colour\"] = \"red\"\n",
    "    df.loc[df[\"open\"] < df[\"close\"], \"colour\"] = \"green\"\n",
    "    df.loc[df[\"open\"] == df[\"close\"], \"colour\"] = \"yellow\"\n",
    "    \n",
    "    # Calculate colour percents\n",
    "    green_count = df['colour'].value_counts()[\"green\"]\n",
    "    red_count = df['colour'].value_counts()[\"red\"]\n",
    "    yellow_count = df['colour'].value_counts()[\"yellow\"]\n",
    "    green_percent = round(green_count / (green_count + red_count + yellow_count) * 100,2)\n",
    "    red_percent = round(red_count / (green_count + red_count + yellow_count) * 100,2)\n",
    "    yellow_percent = round(yellow_count / (green_count + red_count + yellow_count) * 100,2)\n",
    "    \n",
    "    print('Green count: {}%, Red count: {}%, Yellow count: {}%'.format(green_percent, red_percent, yellow_percent))\n",
    "\n",
    "\n",
    "# Files with different data\n",
    "datasets = [\"spy-1m.csv\",\"spy-5m.csv\",\"spy-1h.csv\",\"spy-1d.csv\"]\n",
    "\n",
    "# Calculate colour stats for each file\n",
    "for dataset in datasets:\n",
    "    print(\"=======================================\")\n",
    "    df = pd.read_csv(dataset).dropna()\n",
    "    print(\"Dataset: \" + dataset + \" Size: \" + str(len(df.index)))\n",
    "    print(\"\")\n",
    "    total_colours(df)"
   ]
  },
  {
   "cell_type": "code",
   "execution_count": null,
   "id": "11b63bac",
   "metadata": {},
   "outputs": [],
   "source": []
  },
  {
   "cell_type": "code",
   "execution_count": null,
   "id": "4d5f289f",
   "metadata": {},
   "outputs": [],
   "source": []
  },
  {
   "cell_type": "code",
   "execution_count": null,
   "id": "5f53e874",
   "metadata": {},
   "outputs": [],
   "source": []
  },
  {
   "cell_type": "markdown",
   "id": "231e8f44",
   "metadata": {},
   "source": [
    "### Candle Colour Totals with EMAs"
   ]
  },
  {
   "cell_type": "code",
   "execution_count": 11,
   "id": "d9653cf7",
   "metadata": {},
   "outputs": [
    {
     "name": "stdout",
     "output_type": "stream",
     "text": [
      "=======================================\n",
      "Dataset: spy-1m.csv Size: 10327\n",
      "\n",
      "9 EMA Colours || Over_Green: 66.87%, Over_Red: 33.13% || Under_Green: 29.81%, Under_Red: 70.19%\n",
      "21 EMA Colours || Over_Green: 60.56%, Over_Red: 39.44% || Under_Green: 36.86%, Under_Red: 63.14%\n",
      "200 EMA Colours || Over_Green: 51.88%, Over_Red: 48.12% || Under_Green: 45.3%, Under_Red: 54.7%\n",
      "=======================================\n",
      "Dataset: spy-5m.csv Size: 9837\n",
      "\n",
      "9 EMA Colours || Over_Green: 67.79%, Over_Red: 32.21% || Under_Green: 31.64%, Under_Red: 68.36%\n",
      "21 EMA Colours || Over_Green: 61.62%, Over_Red: 38.38% || Under_Green: 38.54%, Under_Red: 61.46%\n",
      "200 EMA Colours || Over_Green: 55.11%, Over_Red: 44.89% || Under_Green: 45.55%, Under_Red: 54.45%\n",
      "=======================================\n",
      "Dataset: spy-1h.csv Size: 10439\n",
      "\n",
      "9 EMA Colours || Over_Green: 65.47%, Over_Red: 34.53% || Under_Green: 32.48%, Under_Red: 67.52%\n",
      "21 EMA Colours || Over_Green: 60.51%, Over_Red: 39.49% || Under_Green: 37.69%, Under_Red: 62.31%\n",
      "200 EMA Colours || Over_Green: 54.63%, Over_Red: 45.37% || Under_Green: 44.94%, Under_Red: 55.06%\n",
      "=======================================\n",
      "Dataset: spy-1d.csv Size: 7346\n",
      "\n",
      "9 EMA Colours || Over_Green: 65.79%, Over_Red: 34.21% || Under_Green: 31.37%, Under_Red: 68.63%\n",
      "21 EMA Colours || Over_Green: 60.48%, Over_Red: 39.52% || Under_Green: 37.99%, Under_Red: 62.01%\n",
      "200 EMA Colours || Over_Green: 54.36%, Over_Red: 45.64% || Under_Green: 46.58%, Under_Red: 53.42%\n"
     ]
    }
   ],
   "source": [
    "def add_indicators(df):\n",
    "\n",
    "    # Add EMA to DF\n",
    "    emas = [9,21,200]\n",
    "    for ema in emas:\n",
    "        ema_values = EMAIndicator(close=df[\"close\"], window=ema, fillna=False)\n",
    "        df[\"ema\"+str(ema)] = ema_values.ema_indicator()\n",
    "\n",
    "    df.dropna(inplace=True)\n",
    "\n",
    "    return df\n",
    "\n",
    "def ema_colours(df):\n",
    "    \n",
    "    # For Tradingview indicators\n",
    "    df.rename(columns={'EMA': 'ema200', 'EMA.1': 'ema21','EMA.2': 'ema9'}, inplace=True)\n",
    "    df.drop(columns=['Smoothing Line','Smoothing Line.1','Smoothing Line.2'], inplace=True)\n",
    "\n",
    "    # For local indicators\n",
    "    # df = add_indicators(df)\n",
    "    \n",
    "    # Label our rows with green or red\n",
    "    df.loc[df[\"close\"] > df[\"open\"], \"colour\"] = \"green\"\n",
    "    df.loc[df[\"close\"] < df[\"open\"] , \"colour\"] = \"red\"\n",
    "    df.loc[df[\"open\"] == df[\"close\"], \"colour\"] = \"yellow\"\n",
    "\n",
    "    # Label our rows with over/under ema\n",
    "    emas = [\"9\",\"21\",\"200\"]\n",
    "    for ema in emas:\n",
    "        df[\"over\"+ema] = np.where((df[\"close\"] > df[\"ema\"+ema]), \"true\", \"false\")\n",
    "\n",
    "    #print(df.head(5))\n",
    "    \n",
    "    # Calculate the percent of green/red candles over/under each EMA\n",
    "    for ema in emas:\n",
    "        over_count = df[\"over\"+ema].value_counts()[\"true\"]\n",
    "        over_green = len(df[(df[\"over\"+ema]==\"true\") & (df[\"colour\"]==\"green\")])\n",
    "        over_green_percent = round(over_green / over_count * 100,2)\n",
    "        over_red_percent = round(100 - over_green_percent,2)\n",
    "\n",
    "        under_count = df[\"over\"+ema].value_counts()[\"false\"]\n",
    "        under_green = len(df[(df[\"over\"+ema]==\"false\") & (df[\"colour\"]==\"green\")])\n",
    "        under_green_percent = round(under_green / under_count * 100,2)\n",
    "        under_red_percent = round(100 - under_green_percent,2)\n",
    "            \n",
    "        print('{} EMA Colours || Over_Green: {}%, Over_Red: {}% || Under_Green: {}%, Under_Red: {}%'.format(ema, over_green_percent, over_red_percent, under_green_percent, under_red_percent))\n",
    "\n",
    "\n",
    "datasets = [\"spy-1m.csv\",\"spy-5m.csv\",\"spy-1h.csv\",\"spy-1d.csv\"]\n",
    "#datasets = [\"spy-5m.csv\",\"aapl-5m.csv\"]\n",
    "\n",
    "for dataset in datasets:\n",
    "    print(\"=======================================\")\n",
    "    df = pd.read_csv(dataset).dropna()\n",
    "    print(\"Dataset: \" + dataset + \" Size: \" + str(len(df.index)))\n",
    "    print(\"\")\n",
    "    ema_colours(df)\n",
    "\n"
   ]
  },
  {
   "cell_type": "code",
   "execution_count": null,
   "id": "b9696b26",
   "metadata": {},
   "outputs": [],
   "source": []
  },
  {
   "cell_type": "code",
   "execution_count": null,
   "id": "389b2fd7",
   "metadata": {},
   "outputs": [],
   "source": []
  },
  {
   "cell_type": "code",
   "execution_count": null,
   "id": "a9c76a4b",
   "metadata": {},
   "outputs": [],
   "source": []
  }
 ],
 "metadata": {
  "kernelspec": {
   "display_name": "Python 3 (ipykernel)",
   "language": "python",
   "name": "python3"
  },
  "language_info": {
   "codemirror_mode": {
    "name": "ipython",
    "version": 3
   },
   "file_extension": ".py",
   "mimetype": "text/x-python",
   "name": "python",
   "nbconvert_exporter": "python",
   "pygments_lexer": "ipython3",
   "version": "3.9.13"
  }
 },
 "nbformat": 4,
 "nbformat_minor": 5
}
